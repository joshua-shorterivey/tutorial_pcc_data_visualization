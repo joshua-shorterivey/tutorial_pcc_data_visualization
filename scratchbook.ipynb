{
 "cells": [
  {
   "cell_type": "code",
   "execution_count": 1,
   "metadata": {},
   "outputs": [],
   "source": [
    "import csv\n",
    "import matplotlib.pyplot as plt\n",
    "import numpy as np\n",
    "\n",
    "from datetime import datetime\n",
    "\n"
   ]
  },
  {
   "cell_type": "code",
   "execution_count": 7,
   "metadata": {},
   "outputs": [
    {
     "data": {
      "text/plain": [
       "'global_earthquakes.html'"
      ]
     },
     "execution_count": 7,
     "metadata": {},
     "output_type": "execute_result"
    }
   ],
   "source": [
    "import json\n",
    "\n",
    "from plotly.graph_objs import Scattergeo, Layout\n",
    "from plotly import offline\n",
    "\n",
    "#filename = 'data/eq_data_1_day_m1.json'\n",
    "filename = 'data/eq_data_30_day_m1.json'\n",
    "with open(filename) as f:\n",
    "    all_eq_data = json.load(f)\n",
    "\n",
    "all_eq_dicts = all_eq_data['features']\n",
    "my_title = all_eq_data['metadata']['title']\n",
    "\n",
    "mags, lons, lats, hover_texts = [], [], [], []\n",
    "for eq_dict in all_eq_dicts:\n",
    "    mag = eq_dict['properties']['mag']\n",
    "    lon = eq_dict['geometry']['coordinates'][0]\n",
    "    lat = eq_dict['geometry']['coordinates'][1]\n",
    "    title = eq_dict['properties']['title']\n",
    "    mags.append(mag)\n",
    "    lons.append(lon)\n",
    "    lats.append(lat)\n",
    "    hover_texts.append(title)\n",
    "\n",
    "#map the earthquakes.\n",
    "#data = [Scattergeo(lon=lons, lat=lats)]\n",
    "data = [{\n",
    "    'type': 'scattergeo',\n",
    "    'lon': lons, \n",
    "    'lat': lats,\n",
    "    'text': hover_texts,\n",
    "    'marker': {\n",
    "        'size': [5*mag for mag in mags],\n",
    "        'color': mags, \n",
    "        'colorscale': 'Viridis', \n",
    "        'reversescale': True, \n",
    "        'colorbar': {'title': 'Magnitude'},\n",
    "    },\n",
    "}]\n",
    "my_layout = Layout(title=my_title)\n",
    "\n",
    "fig = {'data': data, 'layout': my_layout}\n",
    "offline.plot(fig, filename='global_earthquakes.html')"
   ]
  },
  {
   "cell_type": "code",
   "execution_count": 6,
   "metadata": {},
   "outputs": [
    {
     "data": {
      "text/plain": [
       "'USGS Magnitude 1.0+ Earthquakes, Past Month'"
      ]
     },
     "execution_count": 6,
     "metadata": {},
     "output_type": "execute_result"
    }
   ],
   "source": [
    "all_eq_data['metadata']['title']"
   ]
  }
 ],
 "metadata": {
  "kernelspec": {
   "display_name": "base",
   "language": "python",
   "name": "python3"
  },
  "language_info": {
   "codemirror_mode": {
    "name": "ipython",
    "version": 3
   },
   "file_extension": ".py",
   "mimetype": "text/x-python",
   "name": "python",
   "nbconvert_exporter": "python",
   "pygments_lexer": "ipython3",
   "version": "3.9.12"
  },
  "orig_nbformat": 4,
  "vscode": {
   "interpreter": {
    "hash": "38cca0c38332a56087b24af0bc80247f4fced29cb4f7f437d91dc159adec9c4e"
   }
  }
 },
 "nbformat": 4,
 "nbformat_minor": 2
}
