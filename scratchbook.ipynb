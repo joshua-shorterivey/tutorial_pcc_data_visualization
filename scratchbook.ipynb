{
 "cells": [
  {
   "cell_type": "code",
   "execution_count": 23,
   "metadata": {},
   "outputs": [],
   "source": [
    "import matplotlib.pyplot as plt\n",
    "import numpy as np\n"
   ]
  },
  {
   "cell_type": "code",
   "execution_count": 27,
   "metadata": {},
   "outputs": [
    {
     "data": {
      "image/png": "[encoded data removed]",
      "text/plain": [
       "<Figure size 1000x600 with 1 Axes>"
      ]
     },
     "metadata": {},
     "output_type": "display_data"
    }
   ],
   "source": [
    "# 15-10. Practicing with Both Libraries: Try using Matplotlib to make a die-rolling visualization, and use Plotly to make the visualization for a random walk. (You’ll need to consult the documentation for each library to complete this exercise.)\n",
    "from plotly.graph_objs import Scatter\n",
    "from plotly import offline\n",
    "from random_walk import RandomWalk\n",
    "\n",
    "# keep making new walks, as long as the program is active.\n",
    "while True:\n",
    "    #make a random walk\n",
    "    #rw = RandomWalk()\n",
    "    #increasing number of points\n",
    "    rw = RandomWalk()\n",
    "    rw.fill_walk()\n",
    "\n",
    "    #plot the points in the walk. \n",
    "    \n",
    "    #altering size to fill screen with figsize\n",
    "    fig, ax = plt.subplots(figsize=(15,9), dpi=227)\n",
    "\n",
    "    #plotting with color to show path taken\n",
    "    point_numbers = range(rw.num_points)\n",
    "    ax.scatter(rw.x_values, rw.y_values, c=point_numbers, cmap=plt.cm.Blues,\n",
    "        edgecolors='none', s=1)\n",
    "\n",
    "    #emphasize the first and last points.\n",
    "    ax.scatter(0,0, c='green', edgecolors='none', s=100)\n",
    "    ax.scatter(rw.x_values[-1], rw.y_values[-1], c='red', edgecolors='none', \n",
    "        s=100)\n",
    "\n",
    "    #remove the axes.\n",
    "    ax.get_xaxis().set_visible(False)\n",
    "    ax.get_yaxis().set_visible(False)\n",
    "\n",
    "    plt.show()\n",
    "\n",
    "\n",
    "    keep_running = input('Make another walk? (y/n): ')\n",
    "    if keep_running == 'n':\n",
    "        break\n",
    "# x_axis_config = {'title': 'Result', 'dtick': 1}\n",
    "# y_axis_config = {'title': 'Frequency of Result'}\n",
    "# my_layout = Layout(title='Results of rolling two D8 dice 1000 times', \n",
    "#             xaxis=x_axis_config, yaxis=y_axis_config)\n",
    "# offline.plot({'data': data, 'layout': my_layout}, filename='d8_d8.html')"
   ]
  },
  {
   "cell_type": "code",
   "execution_count": 3,
   "metadata": {},
   "outputs": [
    {
     "name": "stdout",
     "output_type": "stream",
     "text": [
      "1 23\n",
      "2 48\n",
      "3 54\n",
      "4 74\n",
      "5 45\n",
      "6 105\n",
      "7 0\n",
      "8 56\n",
      "9 29\n",
      "10 42\n",
      "11 0\n",
      "12 120\n",
      "13 0\n",
      "14 0\n",
      "15 69\n",
      "16 35\n",
      "17 0\n",
      "18 70\n",
      "19 0\n",
      "20 60\n",
      "21 0\n",
      "22 0\n",
      "23 0\n",
      "24 49\n",
      "25 36\n",
      "26 0\n",
      "27 0\n",
      "28 0\n",
      "29 0\n",
      "30 62\n",
      "31 0\n",
      "32 0\n",
      "33 0\n",
      "34 0\n",
      "35 0\n",
      "36 23\n"
     ]
    }
   ],
   "source": []
  },
  {
   "cell_type": "code",
   "execution_count": 12,
   "metadata": {},
   "outputs": [
    {
     "data": {
      "text/plain": [
       "False"
      ]
     },
     "execution_count": 12,
     "metadata": {},
     "output_type": "execute_result"
    }
   ],
   "source": []
  },
  {
   "cell_type": "code",
   "execution_count": null,
   "metadata": {},
   "outputs": [],
   "source": []
  }
 ],
 "metadata": {
  "kernelspec": {
   "display_name": "base",
   "language": "python",
   "name": "python3"
  },
  "language_info": {
   "codemirror_mode": {
    "name": "ipython",
    "version": 3
   },
   "file_extension": ".py",
   "mimetype": "text/x-python",
   "name": "python",
   "nbconvert_exporter": "python",
   "pygments_lexer": "ipython3",
   "version": "3.9.12"
  },
  "orig_nbformat": 4,
  "vscode": {
   "interpreter": {
    "hash": "38cca0c38332a56087b24af0bc80247f4fced29cb4f7f437d91dc159adec9c4e"
   }
  }
 },
 "nbformat": 4,
 "nbformat_minor": 2
}
